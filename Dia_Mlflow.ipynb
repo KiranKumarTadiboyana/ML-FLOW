{
 "cells": [
  {
   "cell_type": "code",
   "execution_count": 1,
   "id": "229690c0",
   "metadata": {},
   "outputs": [
    {
     "name": "stdout",
     "output_type": "stream",
     "text": [
      "Requirement already satisfied: mlflow in c:\\users\\hp\\anaconda3\\lib\\site-packages (2.14.3)\n",
      "Requirement already satisfied: Flask<4 in c:\\users\\hp\\anaconda3\\lib\\site-packages (from mlflow) (2.2.5)\n",
      "Requirement already satisfied: alembic!=1.10.0,<2 in c:\\users\\hp\\anaconda3\\lib\\site-packages (from mlflow) (1.13.2)\n",
      "Requirement already satisfied: cachetools<6,>=5.0.0 in c:\\users\\hp\\anaconda3\\lib\\site-packages (from mlflow) (5.4.0)\n",
      "Requirement already satisfied: click<9,>=7.0 in c:\\users\\hp\\anaconda3\\lib\\site-packages (from mlflow) (8.1.7)\n",
      "Requirement already satisfied: cloudpickle<4 in c:\\users\\hp\\anaconda3\\lib\\site-packages (from mlflow) (2.2.1)\n",
      "Requirement already satisfied: docker<8,>=4.0.0 in c:\\users\\hp\\anaconda3\\lib\\site-packages (from mlflow) (7.1.0)\n",
      "Requirement already satisfied: entrypoints<1 in c:\\users\\hp\\anaconda3\\lib\\site-packages (from mlflow) (0.4)\n",
      "Requirement already satisfied: gitpython<4,>=3.1.9 in c:\\users\\hp\\anaconda3\\lib\\site-packages (from mlflow) (3.1.37)\n",
      "Requirement already satisfied: graphene<4 in c:\\users\\hp\\anaconda3\\lib\\site-packages (from mlflow) (3.3)\n",
      "Requirement already satisfied: importlib-metadata!=4.7.0,<8,>=3.7.0 in c:\\users\\hp\\anaconda3\\lib\\site-packages (from mlflow) (7.0.1)\n",
      "Requirement already satisfied: markdown<4,>=3.3 in c:\\users\\hp\\anaconda3\\lib\\site-packages (from mlflow) (3.4.1)\n",
      "Requirement already satisfied: matplotlib<4 in c:\\users\\hp\\anaconda3\\lib\\site-packages (from mlflow) (3.8.0)\n",
      "Requirement already satisfied: numpy<2 in c:\\users\\hp\\anaconda3\\lib\\site-packages (from mlflow) (1.26.4)\n",
      "Requirement already satisfied: opentelemetry-api<3,>=1.9.0 in c:\\users\\hp\\anaconda3\\lib\\site-packages (from mlflow) (1.25.0)\n",
      "Requirement already satisfied: opentelemetry-sdk<3,>=1.9.0 in c:\\users\\hp\\anaconda3\\lib\\site-packages (from mlflow) (1.25.0)\n",
      "Requirement already satisfied: packaging<25 in c:\\users\\hp\\anaconda3\\lib\\site-packages (from mlflow) (23.1)\n",
      "Requirement already satisfied: pandas<3 in c:\\users\\hp\\anaconda3\\lib\\site-packages (from mlflow) (2.2.2)\n",
      "Requirement already satisfied: protobuf<5,>=3.12.0 in c:\\users\\hp\\anaconda3\\lib\\site-packages (from mlflow) (3.20.3)\n",
      "Requirement already satisfied: pyarrow<16,>=4.0.0 in c:\\users\\hp\\anaconda3\\lib\\site-packages (from mlflow) (14.0.2)\n",
      "Requirement already satisfied: pytz<2025 in c:\\users\\hp\\anaconda3\\lib\\site-packages (from mlflow) (2023.3.post1)\n",
      "Requirement already satisfied: pyyaml<7,>=5.1 in c:\\users\\hp\\anaconda3\\lib\\site-packages (from mlflow) (6.0.1)\n",
      "Requirement already satisfied: querystring-parser<2 in c:\\users\\hp\\anaconda3\\lib\\site-packages (from mlflow) (1.2.4)\n",
      "Requirement already satisfied: requests<3,>=2.17.3 in c:\\users\\hp\\anaconda3\\lib\\site-packages (from mlflow) (2.31.0)\n",
      "Requirement already satisfied: scikit-learn<2 in c:\\users\\hp\\anaconda3\\lib\\site-packages (from mlflow) (1.5.1)\n",
      "Requirement already satisfied: scipy<2 in c:\\users\\hp\\anaconda3\\lib\\site-packages (from mlflow) (1.11.4)\n",
      "Requirement already satisfied: sqlalchemy<3,>=1.4.0 in c:\\users\\hp\\anaconda3\\lib\\site-packages (from mlflow) (2.0.25)\n",
      "Requirement already satisfied: sqlparse<1,>=0.4.0 in c:\\users\\hp\\anaconda3\\lib\\site-packages (from mlflow) (0.5.1)\n",
      "Requirement already satisfied: Jinja2<4,>=3.0 in c:\\users\\hp\\anaconda3\\lib\\site-packages (from mlflow) (3.1.3)\n",
      "Requirement already satisfied: waitress<4 in c:\\users\\hp\\anaconda3\\lib\\site-packages (from mlflow) (3.0.0)\n",
      "Requirement already satisfied: Mako in c:\\users\\hp\\anaconda3\\lib\\site-packages (from alembic!=1.10.0,<2->mlflow) (1.3.5)\n",
      "Requirement already satisfied: typing-extensions>=4 in c:\\users\\hp\\anaconda3\\lib\\site-packages (from alembic!=1.10.0,<2->mlflow) (4.9.0)\n",
      "Requirement already satisfied: colorama in c:\\users\\hp\\anaconda3\\lib\\site-packages (from click<9,>=7.0->mlflow) (0.4.6)\n",
      "Requirement already satisfied: pywin32>=304 in c:\\users\\hp\\anaconda3\\lib\\site-packages (from docker<8,>=4.0.0->mlflow) (305.1)\n",
      "Requirement already satisfied: urllib3>=1.26.0 in c:\\users\\hp\\anaconda3\\lib\\site-packages (from docker<8,>=4.0.0->mlflow) (2.0.7)\n",
      "Requirement already satisfied: Werkzeug>=2.2.2 in c:\\users\\hp\\anaconda3\\lib\\site-packages (from Flask<4->mlflow) (2.2.3)\n",
      "Requirement already satisfied: itsdangerous>=2.0 in c:\\users\\hp\\anaconda3\\lib\\site-packages (from Flask<4->mlflow) (2.0.1)\n",
      "Requirement already satisfied: gitdb<5,>=4.0.1 in c:\\users\\hp\\anaconda3\\lib\\site-packages (from gitpython<4,>=3.1.9->mlflow) (4.0.7)\n",
      "Requirement already satisfied: graphql-core<3.3,>=3.1 in c:\\users\\hp\\anaconda3\\lib\\site-packages (from graphene<4->mlflow) (3.2.3)\n",
      "Requirement already satisfied: graphql-relay<3.3,>=3.1 in c:\\users\\hp\\anaconda3\\lib\\site-packages (from graphene<4->mlflow) (3.2.0)\n",
      "Requirement already satisfied: aniso8601<10,>=8 in c:\\users\\hp\\anaconda3\\lib\\site-packages (from graphene<4->mlflow) (9.0.1)\n",
      "Requirement already satisfied: zipp>=0.5 in c:\\users\\hp\\anaconda3\\lib\\site-packages (from importlib-metadata!=4.7.0,<8,>=3.7.0->mlflow) (3.17.0)\n",
      "Requirement already satisfied: MarkupSafe>=2.0 in c:\\users\\hp\\anaconda3\\lib\\site-packages (from Jinja2<4,>=3.0->mlflow) (2.1.3)\n",
      "Requirement already satisfied: contourpy>=1.0.1 in c:\\users\\hp\\anaconda3\\lib\\site-packages (from matplotlib<4->mlflow) (1.2.0)\n",
      "Requirement already satisfied: cycler>=0.10 in c:\\users\\hp\\anaconda3\\lib\\site-packages (from matplotlib<4->mlflow) (0.11.0)\n",
      "Requirement already satisfied: fonttools>=4.22.0 in c:\\users\\hp\\anaconda3\\lib\\site-packages (from matplotlib<4->mlflow) (4.25.0)\n",
      "Requirement already satisfied: kiwisolver>=1.0.1 in c:\\users\\hp\\anaconda3\\lib\\site-packages (from matplotlib<4->mlflow) (1.4.4)\n",
      "Requirement already satisfied: pillow>=6.2.0 in c:\\users\\hp\\anaconda3\\lib\\site-packages (from matplotlib<4->mlflow) (10.2.0)\n",
      "Requirement already satisfied: pyparsing>=2.3.1 in c:\\users\\hp\\anaconda3\\lib\\site-packages (from matplotlib<4->mlflow) (3.0.9)\n",
      "Requirement already satisfied: python-dateutil>=2.7 in c:\\users\\hp\\anaconda3\\lib\\site-packages (from matplotlib<4->mlflow) (2.8.2)\n",
      "Requirement already satisfied: deprecated>=1.2.6 in c:\\users\\hp\\anaconda3\\lib\\site-packages (from opentelemetry-api<3,>=1.9.0->mlflow) (1.2.14)\n",
      "Requirement already satisfied: opentelemetry-semantic-conventions==0.46b0 in c:\\users\\hp\\anaconda3\\lib\\site-packages (from opentelemetry-sdk<3,>=1.9.0->mlflow) (0.46b0)\n",
      "Requirement already satisfied: tzdata>=2022.7 in c:\\users\\hp\\anaconda3\\lib\\site-packages (from pandas<3->mlflow) (2023.3)\n",
      "Requirement already satisfied: six in c:\\users\\hp\\anaconda3\\lib\\site-packages (from querystring-parser<2->mlflow) (1.16.0)\n",
      "Requirement already satisfied: charset-normalizer<4,>=2 in c:\\users\\hp\\anaconda3\\lib\\site-packages (from requests<3,>=2.17.3->mlflow) (2.0.4)\n",
      "Requirement already satisfied: idna<4,>=2.5 in c:\\users\\hp\\anaconda3\\lib\\site-packages (from requests<3,>=2.17.3->mlflow) (3.4)\n",
      "Requirement already satisfied: certifi>=2017.4.17 in c:\\users\\hp\\anaconda3\\lib\\site-packages (from requests<3,>=2.17.3->mlflow) (2024.2.2)\n",
      "Requirement already satisfied: joblib>=1.2.0 in c:\\users\\hp\\anaconda3\\lib\\site-packages (from scikit-learn<2->mlflow) (1.2.0)\n",
      "Requirement already satisfied: threadpoolctl>=3.1.0 in c:\\users\\hp\\anaconda3\\lib\\site-packages (from scikit-learn<2->mlflow) (3.5.0)\n",
      "Requirement already satisfied: greenlet!=0.4.17 in c:\\users\\hp\\anaconda3\\lib\\site-packages (from sqlalchemy<3,>=1.4.0->mlflow) (3.0.1)\n",
      "Requirement already satisfied: wrapt<2,>=1.10 in c:\\users\\hp\\anaconda3\\lib\\site-packages (from deprecated>=1.2.6->opentelemetry-api<3,>=1.9.0->mlflow) (1.14.1)\n",
      "Requirement already satisfied: smmap<5,>=3.0.1 in c:\\users\\hp\\anaconda3\\lib\\site-packages (from gitdb<5,>=4.0.1->gitpython<4,>=3.1.9->mlflow) (4.0.0)\n"
     ]
    }
   ],
   "source": [
    "!pip install mlflow"
   ]
  },
  {
   "cell_type": "code",
   "execution_count": 2,
   "id": "79493e5f",
   "metadata": {},
   "outputs": [],
   "source": [
    "from sklearn import datasets\n",
    "from sklearn.model_selection import train_test_split\n",
    "from sklearn.preprocessing import StandardScaler\n",
    "\n",
    "# Load Iris dataset\n",
    "dia = datasets.load_diabetes()\n",
    "X = dia.data\n",
    "y = dia.target\n",
    "\n",
    "# Split data into train and test sets\n",
    "X_train, X_test, y_train, y_test = train_test_split(X, y, test_size=0.2, random_state=42)"
   ]
  },
  {
   "cell_type": "code",
   "execution_count": 3,
   "id": "a27f19d9",
   "metadata": {},
   "outputs": [],
   "source": [
    "import mlflow"
   ]
  },
  {
   "cell_type": "code",
   "execution_count": 4,
   "id": "c185978f",
   "metadata": {},
   "outputs": [],
   "source": [
    "import os\n",
    "os.environ['GIT_PYTHON_REFRESH']='quiet'\n",
    "os.environ['MLFLOW_TRACKING_URI']=\"file:///Users/HP/OneDrive/Documents/Bhuvan/b\""
   ]
  },
  {
   "cell_type": "code",
   "execution_count": 5,
   "id": "0f109370",
   "metadata": {},
   "outputs": [
    {
     "data": {
      "text/plain": [
       "<Experiment: artifact_location='file:///C:/Users/HP/OneDrive/Documents/Bhuvan/b/555404616607289668', creation_time=1721300591194, experiment_id='555404616607289668', last_update_time=1721300591194, lifecycle_stage='active', name='dia-analysis', tags={'dia-tag': 'ex1'}>"
      ]
     },
     "execution_count": 5,
     "metadata": {},
     "output_type": "execute_result"
    }
   ],
   "source": [
    "mlflow.set_experiment(\"dia-analysis\")"
   ]
  },
  {
   "cell_type": "code",
   "execution_count": 6,
   "id": "2f6b8cac",
   "metadata": {},
   "outputs": [],
   "source": [
    "mlflow.set_experiment_tag('dia-tag','ex1')"
   ]
  },
  {
   "cell_type": "code",
   "execution_count": 7,
   "id": "b39afe23",
   "metadata": {},
   "outputs": [
    {
     "name": "stderr",
     "output_type": "stream",
     "text": [
      "C:\\Users\\HP\\anaconda3\\Lib\\site-packages\\_distutils_hack\\__init__.py:33: UserWarning: Setuptools is replacing distutils.\n",
      "  warnings.warn(\"Setuptools is replacing distutils.\")\n"
     ]
    }
   ],
   "source": [
    "with mlflow.start_run():    \n",
    "    from sklearn.ensemble import RandomForestRegressor\n",
    "    from sklearn.ensemble import GradientBoostingRegressor\n",
    "    from sklearn.metrics import r2_score\n",
    "    \n",
    "    # model object initialization\n",
    "    RandFor=RandomForestRegressor(n_estimators=5000,max_depth=6)\n",
    "    GBM=GradientBoostingRegressor(n_estimators=3000,max_depth=6,learning_rate=0.01,min_samples_split=5)\n",
    "    rf_n_estimators=5000\n",
    "    #logging parameters\n",
    "    mlflow.log_param(\"n_estimators\",rf_n_estimators)\n",
    "    mlflow.log_param('rf_max_depth',6)\n",
    "    mlflow.log_param('gbm_n_estimators',3000)\n",
    "    mlflow.log_param('gbm_max_depth',6)\n",
    "    mlflow.log_param('gbm_learning_rate',0.01)\n",
    "    mlflow.log_param('gbm_minimum_samples_split',5)\n",
    "    \n",
    "    #training models\n",
    "    rf=RandFor.fit(X_train,y_train)\n",
    "    gbm=GBM.fit(X_train,y_train)\n",
    "    \n",
    "    #training scores\n",
    "    training_score_rf=RandFor.score(X_train,y_train)\n",
    "    training_score_gbm=GBM.score(X_train,y_train)\n",
    "    \n",
    "    #logging training score\n",
    "    mlflow.log_metric(\"rf_training_score\", training_score_rf)\n",
    "    mlflow.log_metric(\"gbm_training_score\",training_score_gbm)\n",
    "    \n",
    "    #value predictions\n",
    "    y_pred_rf=rf.predict(X_test)\n",
    "    y_pred_gbm=gbm.predict(X_test)\n",
    "    \n",
    "    #prediction evaluations\n",
    "    testing_score_rf=r2_score(y_pred_rf,y_test)\n",
    "    testing_score_gbm=r2_score(y_pred_gbm,y_test)\n",
    "    \n",
    "    #logging evaluation scores\n",
    "    mlflow.log_metric(\"rf_testing_score\", testing_score_rf)\n",
    "    mlflow.log_metric(\"gbm_testing_score\",testing_score_gbm)\n",
    "    \n",
    "    #logging models\n",
    "    mlflow.sklearn.log_model(rf, \"random-forest-model\")\n",
    "    mlflow.sklearn.log_model(gbm, \"gradient-boosting-model\")"
   ]
  },
  {
   "cell_type": "code",
   "execution_count": 16,
   "id": "edc5788d",
   "metadata": {},
   "outputs": [
    {
     "name": "stdout",
     "output_type": "stream",
     "text": [
      "{'predictions': [147.13145056237212, 178.03154035054214, 154.80617242729664, 248.04248369906642, 116.97340346412584, 119.30309641294801, 246.94597853624745, 212.30771865927596, 145.69104057013908, 174.2314485413389, 98.04129935651157, 170.36751701189837, 88.40262674106333, 237.6423456691287, 91.93194394155007, 124.36174227278335, 240.0964657854482, 264.3922913070133, 182.02841411666847, 232.77898282152378, 164.44082808960698, 109.28374134896784, 73.97810691611937, 201.02814757256547, 144.21574413181114, 177.6252433280154, 191.58624960494058, 145.65959214540044, 75.28018722601762, 106.30167837398217, 182.27433685518537, 90.96866861476104, 175.89995889911452, 202.19301910761519, 154.77511707870116, 205.73488566631306, 117.36868074758713, 123.36452346923835, 176.66162513569097, 77.73563751065723, 79.76368661946118, 92.93603601256099, 164.0466515453, 157.9684098035441, 167.7600968654707, 82.67076333002547, 76.63985071533078, 109.73730772344389, 77.74598129224341, 153.52725243975726, 114.29790600584047, 83.55937773996594, 167.66055019071115, 96.10230664483413, 186.8483330550817, 137.66797778678338, 93.27448025557136, 225.6039264217804, 91.72480476716773, 89.03590291254392, 163.854206935584, 172.10590632931252, 137.6288859491599, 96.74637188115003, 132.67652630242426, 223.5750115296021, 176.66345128081974, 181.20668721117647, 137.09970733977116, 145.72342564951, 169.22749020474708, 194.8780881107539, 207.70696616517793, 114.04465569812972, 82.52398489304557, 171.2731488467019, 214.96071055196538, 170.1469580953896, 186.91250020039897, 197.75236717597545, 87.65840533538467, 114.58725443361448, 85.40790596426883, 79.73548224786646, 93.5101540215027, 75.36986149168891, 90.53561753613015, 81.4096240541995, 157.75808951024192]}\n"
     ]
    }
   ],
   "source": [
    "import requests\n",
    "import json\n",
    "import pandas as pd\n",
    "\n",
    "\n",
    "data = {'dataframe_records': pd.DataFrame(X_test).values.tolist()}\n",
    "headers = {\"content-Type\" : \"application/json\"}\n",
    "\n",
    "response = requests.post(\"http://localhost:1023/invocations\",data=json.dumps(data),headers=headers)\n",
    "predictions = response.json()\n",
    "\n",
    "print(predictions)"
   ]
  },
  {
   "cell_type": "code",
   "execution_count": null,
   "id": "5e6a2261",
   "metadata": {},
   "outputs": [],
   "source": []
  },
  {
   "cell_type": "code",
   "execution_count": null,
   "id": "622b5c40",
   "metadata": {},
   "outputs": [],
   "source": []
  }
 ],
 "metadata": {
  "kernelspec": {
   "display_name": "Python 3 (ipykernel)",
   "language": "python",
   "name": "python3"
  },
  "language_info": {
   "codemirror_mode": {
    "name": "ipython",
    "version": 3
   },
   "file_extension": ".py",
   "mimetype": "text/x-python",
   "name": "python",
   "nbconvert_exporter": "python",
   "pygments_lexer": "ipython3",
   "version": "3.11.7"
  }
 },
 "nbformat": 4,
 "nbformat_minor": 5
}
